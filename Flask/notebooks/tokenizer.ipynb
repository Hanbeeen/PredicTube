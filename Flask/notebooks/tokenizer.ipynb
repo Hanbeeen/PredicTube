{
 "cells": [
  {
   "cell_type": "code",
   "execution_count": 1,
   "id": "2f219598",
   "metadata": {},
   "outputs": [],
   "source": [
    "import pandas as pd\n",
    "import re\n",
    "from konlpy.tag import Okt\n",
    "from keras.preprocessing.text import Tokenizer"
   ]
  },
  {
   "cell_type": "code",
   "execution_count": 2,
   "id": "492879bb",
   "metadata": {},
   "outputs": [],
   "source": [
    "data = pd.read_csv('partial_vision_api_data_backup_20230908113602.csv')\n",
    "#''안에 불러올 파일 이름.확장자 작성"
   ]
  },
  {
   "cell_type": "code",
   "execution_count": 3,
   "id": "01a08609",
   "metadata": {},
   "outputs": [
    {
     "data": {
      "text/plain": [
       "'이런 형식으로 부탁드려요🙏'"
      ]
     },
     "execution_count": 3,
     "metadata": {},
     "output_type": "execute_result"
    }
   ],
   "source": [
    "okt = Okt()\n",
    "\n",
    "'''이런 형식으로 부탁드려요🙏'''"
   ]
  },
  {
   "cell_type": "code",
   "execution_count": 4,
   "id": "723bec20",
   "metadata": {},
   "outputs": [],
   "source": [
    "def filter_korean(tokens):\n",
    "    \"\"\"한글만 남기는 함수\"\"\"\n",
    "    return [token for token in tokens if re.match(\"^[가-힣]+$\", token)]\n"
   ]
  },
  {
   "cell_type": "code",
   "execution_count": 5,
   "id": "d0f138b6",
   "metadata": {},
   "outputs": [],
   "source": [
    "title_tokens = [filter_korean(okt.morphs(str(title))) for title in data['text'][1]]\n",
    "#'' 파일의 column name입력"
   ]
  },
  {
   "cell_type": "code",
   "execution_count": 6,
   "id": "da7910df",
   "metadata": {
    "scrolled": true
   },
   "outputs": [
    {
     "name": "stdout",
     "output_type": "stream",
     "text": [
      "[['굴'], [], ['소'], ['스'], [], ['치'], ['트'], ['키'], [], ['장'], ['착'], [], ['차'], ['돌'], [], ['숙'], ['주'], [], ['볶'], ['음']]\n"
     ]
    }
   ],
   "source": [
    "print(title_tokens)"
   ]
  },
  {
   "cell_type": "code",
   "execution_count": 7,
   "id": "b86c1ee3",
   "metadata": {},
   "outputs": [],
   "source": [
    "tokenizer = Tokenizer()"
   ]
  },
  {
   "cell_type": "code",
   "execution_count": 8,
   "id": "b03d85f8",
   "metadata": {},
   "outputs": [],
   "source": [
    "tokenizer.fit_on_texts(title_tokens)"
   ]
  },
  {
   "cell_type": "code",
   "execution_count": 9,
   "id": "80d60527",
   "metadata": {},
   "outputs": [],
   "source": [
    "title_tokens_num = tokenizer.texts_to_sequences(title_tokens)"
   ]
  },
  {
   "cell_type": "code",
   "execution_count": 10,
   "id": "42096667",
   "metadata": {
    "scrolled": true
   },
   "outputs": [
    {
     "name": "stdout",
     "output_type": "stream",
     "text": [
      "[[1], [], [2], [3], [], [4], [5], [6], [], [7], [8], [], [9], [10], [], [11], [12], [], [13], [14]]\n"
     ]
    }
   ],
   "source": [
    "print(title_tokens_num)"
   ]
  },
  {
   "cell_type": "code",
   "execution_count": 11,
   "id": "e86d1301",
   "metadata": {},
   "outputs": [
    {
     "name": "stdout",
     "output_type": "stream",
     "text": [
      "<class 'list'>\n"
     ]
    }
   ],
   "source": [
    "print(type(title_tokens_num))"
   ]
  },
  {
   "cell_type": "code",
   "execution_count": 12,
   "id": "c98e611b",
   "metadata": {},
   "outputs": [],
   "source": [
    "df = pd.DataFrame({'title_tokens':title_tokens_num})"
   ]
  },
  {
   "cell_type": "code",
   "execution_count": 13,
   "id": "c4272b73",
   "metadata": {},
   "outputs": [],
   "source": [
    "df.to_csv('saved_file2.csv',index=False)"
   ]
  },
  {
   "cell_type": "code",
   "execution_count": null,
   "id": "ba30673b",
   "metadata": {},
   "outputs": [],
   "source": []
  }
 ],
 "metadata": {
  "kernelspec": {
   "display_name": "Python 3 (ipykernel)",
   "language": "python",
   "name": "python3"
  },
  "language_info": {
   "codemirror_mode": {
    "name": "ipython",
    "version": 3
   },
   "file_extension": ".py",
   "mimetype": "text/x-python",
   "name": "python",
   "nbconvert_exporter": "python",
   "pygments_lexer": "ipython3",
   "version": "3.11.3"
  }
 },
 "nbformat": 4,
 "nbformat_minor": 5
}
